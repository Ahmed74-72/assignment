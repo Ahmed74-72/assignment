{
 "cells": [
  {
   "cell_type": "code",
   "execution_count": 2,
   "metadata": {},
   "outputs": [
    {
     "name": "stderr",
     "output_type": "stream",
     "text": [
      "C:\\Users\\Sondos Ghonim\\AppData\\Local\\Temp\\ipykernel_45204\\3030261387.py:21: FutureWarning: DataFrame.applymap has been deprecated. Use DataFrame.map instead.\n",
      "  user_item_matrix = user_item_matrix.applymap(lambda x: np.random.randint(1, 6) if pd.isna(x) else x)\n"
     ]
    },
    {
     "name": "stdout",
     "output_type": "stream",
     "text": [
      "8x8 User-Item Matrix with 3-4 Random Null Values:\n",
      "movieId  230   6062  71    733   99    252   1347  8533\n",
      "userId                                                 \n",
      "506       1.0   1.0   1.0   1.0   4.0   4.0   2.0   4.0\n",
      "514       4.0   2.0   2.0   5.0   1.0   2.0   2.0   1.0\n",
      "67        2.0   5.0   5.0   4.0   4.0   3.0   2.0   3.0\n",
      "75        2.0   4.0   2.0   5.0   3.0   2.0   1.0   1.0\n",
      "129       2.0   5.0   1.0   4.0   2.0   5.0   NaN   5.0\n",
      "495       3.0   NaN   3.0   4.0   NaN   2.0   5.0   3.0\n",
      "15        3.0   2.0   4.0   1.0   4.0   4.0   5.0   1.0\n",
      "535       3.0   2.0   3.0   3.0   2.0   2.0   4.0   3.0\n"
     ]
    }
   ],
   "source": [
    "import pandas as pd\n",
    "import numpy as np\n",
    "\n",
    "# Load the data\n",
    "data = pd.read_csv('ratings.csv')\n",
    "\n",
    "# Preprocess the data\n",
    "# Remove duplicates based on 'userId' and 'rating'\n",
    "data = data.drop_duplicates(subset=['userId', 'rating'])\n",
    "\n",
    "# Convert 'rating' to integer after filling NaNs with 0 if necessary\n",
    "data['rating'] = data['rating'].fillna(0).astype(int)\n",
    "\n",
    "# Convert 'timestamp' from UNIX format to datetime\n",
    "data['timestamp'] = pd.to_datetime(data['timestamp'], unit='s')\n",
    "\n",
    "# Create the user-item matrix without filling NaNs after pivoting\n",
    "user_item_matrix = data.pivot_table(index='userId', columns='movieId', values='rating')\n",
    "\n",
    "# Fill all NaN values with random integers between 1 and 5 for demonstration\n",
    "user_item_matrix = user_item_matrix.applymap(lambda x: np.random.randint(1, 6) if pd.isna(x) else x)\n",
    "\n",
    "# Select a random subset (8x8) of the matrix\n",
    "random_user_ids = np.random.choice(user_item_matrix.index, 8, replace=False)\n",
    "random_movie_ids = np.random.choice(user_item_matrix.columns, 8, replace=False)\n",
    "user_item_matrix_subset = user_item_matrix.loc[random_user_ids, random_movie_ids]\n",
    "\n",
    "# Randomly introduce 3-4 NaN values into the subset matrix\n",
    "num_nan_values = np.random.choice([3, 4])  # Randomly choose between 3-4 NaN values\n",
    "nan_indices = [(np.random.choice(user_item_matrix_subset.index), np.random.choice(user_item_matrix_subset.columns)) for _ in range(num_nan_values)]\n",
    "for row, col in nan_indices:\n",
    "    user_item_matrix_subset.at[row, col] = np.nan\n",
    "\n",
    "# Display the subset with the title\n",
    "print(\"8x8 User-Item Matrix with 3-4 Random Null Values:\")\n",
    "print(user_item_matrix_subset)"
   ]
  },
  {
   "cell_type": "code",
   "execution_count": null,
   "metadata": {},
   "outputs": [
    {
     "name": "stdout",
     "output_type": "stream",
     "text": [
      "Predicted rating for user_533 on item 2455 using Cosine Similarity: 3.274424836891068\n",
      "Predicted rating for user_533 on item 2455 using Pearson Correlation: 3.226854675967426\n",
      "Top-N Recommendations for user_533 using Cosine Similarity: [(1033, 3.260398314864968), (215, 1.9856102416780501)]\n",
      "Top-N Recommendations for user_533 using Pearson Correlation: [(1033, 3.260112461472429), (215, 1.778609830632975)]\n"
     ]
    }
   ],
   "source": [
    "import numpy as np\n",
    "import pandas as pd\n",
    "from sklearn.metrics.pairwise import cosine_similarity\n",
    "from scipy.stats import pearsonr\n",
    "\n",
    "# Updated user-item rating matrix\n",
    "data = {\n",
    "    'movieId': [89745, 1687, 85414, 20, 40278, 65, 728, 16],\n",
    "    'user_516': [5.0, 1.0, 2.0, 5.0, 3.0, 2.0, 5.0, 1.0],\n",
    "    'user_183': [1.0, 5.0, 1.0, 4.0, 1.0, np.nan, np.nan, 5.0],\n",
    "    'user_245': [5.0, 5.0, 3.0, 3.0, 5.0, 1.0, np.nan, 2.0],\n",
    "    'user_214': [4.0, 4.0, 1.0, 2.0, 4.0, 5.0, 4.0, 1.0],\n",
    "    'user_377': [1.0, 3.0, 4.0, 1.0, 2.0, 5.0, 3.0, 1.0],\n",
    "    'user_470': [5.0, 3.0, 5.0, 5.0, 1.0, 2.0, 3.0, 5.0],\n",
    "    'user_411': [np.nan, 2.0, 1.0, 4.0, 2.0, 4.0, 4.0, 3.0],\n",
    "    'user_53': [2.0, 2.0, 5.0, 4.0, 2.0, 4.0, 2.0, 2.0]\n",
    "}\n",
    "df = pd.DataFrame(data).set_index('movieId')\n",
    "\n",
    "# Calculate Cosine Similarity for users\n",
    "cosine_sim = cosine_similarity(df.T.fillna(0))\n",
    "cosine_sim_df = pd.DataFrame(cosine_sim, index=df.columns, columns=df.columns)\n",
    "\n",
    "# Function to calculate Pearson correlation for each user pair\n",
    "def pearson_corr_matrix(df):\n",
    "    user_corr = pd.DataFrame(index=df.columns, columns=df.columns)\n",
    "    for u in df.columns:\n",
    "        for v in df.columns:\n",
    "            user_corr.loc[u, v] = pearsonr(df[u].fillna(0), df[v].fillna(0))[0]\n",
    "    return user_corr\n",
    "\n",
    "pearson_sim_df = pearson_corr_matrix(df)\n",
    "\n",
    "# Prediction function for User-Based Collaborative Filtering\n",
    "def predict_user_based(user, item_id, similarity_matrix, ratings_df, method='cosine'):\n",
    "    if method == 'cosine':\n",
    "        sim_scores = similarity_matrix[user]\n",
    "    elif method == 'pearson':\n",
    "        sim_scores = similarity_matrix[user]\n",
    "    \n",
    "    rated_by_other_users = ratings_df.loc[item_id].dropna()\n",
    "    weighted_sum = np.dot(sim_scores[rated_by_other_users.index], rated_by_other_users)\n",
    "    sum_of_weights = np.abs(sim_scores[rated_by_other_users.index]).sum()\n",
    "    \n",
    "    return weighted_sum / sum_of_weights if sum_of_weights != 0 else np.nan\n",
    "\n",
    "# Generate predictions for a specific user and item using both similarity measures\n",
    "user = 'user_516'\n",
    "item_id = 85414  # movie ID example\n",
    "\n",
    "cosine_pred = predict_user_based(user, item_id, cosine_sim_df, df, method='cosine')\n",
    "pearson_pred = predict_user_based(user, item_id, pearson_sim_df, df, method='pearson')\n",
    "\n",
    "print(f\"Predicted rating for {user} on item {item_id} using Cosine Similarity: {cosine_pred}\")\n",
    "print(f\"Predicted rating for {user} on item {item_id} using Pearson Correlation: {pearson_pred}\")\n",
    "\n",
    "# Top-N Recommendations\n",
    "def top_n_recommendations(user, n, similarity_matrix, ratings_df, method='cosine'):\n",
    "    preds = []\n",
    "    for item_id in ratings_df.index:\n",
    "        if pd.isna(ratings_df.loc[item_id, user]):  # Only predict for items not yet rated\n",
    "            pred_rating = predict_user_based(user, item_id, similarity_matrix, ratings_df, method)\n",
    "            preds.append((item_id, pred_rating))\n",
    "    preds = sorted(preds, key=lambda x: x[1], reverse=True)\n",
    "    return preds[:n]\n",
    "\n",
    "top_n_cosine = top_n_recommendations(user, 3, cosine_sim_df, df, method='cosine')\n",
    "top_n_pearson = top_n_recommendations(user, 3, pearson_sim_df, df, method='pearson')\n",
    "\n",
    "print(f\"Top-N Recommendations for {user} using Cosine Similarity: {top_n_cosine}\")\n",
    "print(f\"Top-N Recommendations for {user} using Pearson Correlation: {top_n_pearson}\")\n"
   ]
  }
 ],
 "metadata": {
  "kernelspec": {
   "display_name": "Python 3",
   "language": "python",
   "name": "python3"
  },
  "language_info": {
   "codemirror_mode": {
    "name": "ipython",
    "version": 3
   },
   "file_extension": ".py",
   "mimetype": "text/x-python",
   "name": "python",
   "nbconvert_exporter": "python",
   "pygments_lexer": "ipython3",
   "version": "3.12.4"
  }
 },
 "nbformat": 4,
 "nbformat_minor": 2
}
